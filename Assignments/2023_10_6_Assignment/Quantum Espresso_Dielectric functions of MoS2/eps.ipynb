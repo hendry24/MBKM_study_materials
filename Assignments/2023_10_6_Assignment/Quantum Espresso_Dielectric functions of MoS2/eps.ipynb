{
 "cells": [
  {
   "cell_type": "code",
   "execution_count": 1,
   "id": "essential-cigarette",
   "metadata": {},
   "outputs": [
    {
     "ename": "OSError",
     "evalue": "'../../matplotlib/sci.mplstyle' is not a valid package style, path of style file, URL of style file, or library style name (library styles are listed in `style.available`)",
     "output_type": "error",
     "traceback": [
      "\u001b[1;31m---------------------------------------------------------------------------\u001b[0m",
      "\u001b[1;31mFileNotFoundError\u001b[0m                         Traceback (most recent call last)",
      "File \u001b[1;32mc:\\Users\\hendr\\Documents\\Python Scripts\\#envQuantum\\.venv\\Lib\\site-packages\\matplotlib\\style\\core.py:166\u001b[0m, in \u001b[0;36muse\u001b[1;34m(style)\u001b[0m\n\u001b[0;32m    165\u001b[0m \u001b[39mtry\u001b[39;00m:\n\u001b[1;32m--> 166\u001b[0m     style \u001b[39m=\u001b[39m _rc_params_in_file(style)\n\u001b[0;32m    167\u001b[0m \u001b[39mexcept\u001b[39;00m \u001b[39mIOError\u001b[39;00m \u001b[39mas\u001b[39;00m err:\n",
      "File \u001b[1;32mc:\\Users\\hendr\\Documents\\Python Scripts\\#envQuantum\\.venv\\Lib\\site-packages\\matplotlib\\__init__.py:869\u001b[0m, in \u001b[0;36m_rc_params_in_file\u001b[1;34m(fname, transform, fail_on_error)\u001b[0m\n\u001b[0;32m    868\u001b[0m rc_temp \u001b[39m=\u001b[39m {}\n\u001b[1;32m--> 869\u001b[0m \u001b[39mwith\u001b[39;49;00m _open_file_or_url(fname) \u001b[39mas\u001b[39;49;00m fd:\n\u001b[0;32m    870\u001b[0m     \u001b[39mtry\u001b[39;49;00m:\n",
      "File \u001b[1;32mC:\\Program Files\\WindowsApps\\PythonSoftwareFoundation.Python.3.11_3.11.1776.0_x64__qbz5n2kfra8p0\\Lib\\contextlib.py:137\u001b[0m, in \u001b[0;36m_GeneratorContextManager.__enter__\u001b[1;34m(self)\u001b[0m\n\u001b[0;32m    136\u001b[0m \u001b[39mtry\u001b[39;00m:\n\u001b[1;32m--> 137\u001b[0m     \u001b[39mreturn\u001b[39;00m \u001b[39mnext\u001b[39m(\u001b[39mself\u001b[39m\u001b[39m.\u001b[39mgen)\n\u001b[0;32m    138\u001b[0m \u001b[39mexcept\u001b[39;00m \u001b[39mStopIteration\u001b[39;00m:\n",
      "File \u001b[1;32mc:\\Users\\hendr\\Documents\\Python Scripts\\#envQuantum\\.venv\\Lib\\site-packages\\matplotlib\\__init__.py:846\u001b[0m, in \u001b[0;36m_open_file_or_url\u001b[1;34m(fname)\u001b[0m\n\u001b[0;32m    845\u001b[0m fname \u001b[39m=\u001b[39m os\u001b[39m.\u001b[39mpath\u001b[39m.\u001b[39mexpanduser(fname)\n\u001b[1;32m--> 846\u001b[0m \u001b[39mwith\u001b[39;00m \u001b[39mopen\u001b[39m(fname, encoding\u001b[39m=\u001b[39m\u001b[39m'\u001b[39m\u001b[39mutf-8\u001b[39m\u001b[39m'\u001b[39m) \u001b[39mas\u001b[39;00m f:\n\u001b[0;32m    847\u001b[0m     \u001b[39myield\u001b[39;00m f\n",
      "\u001b[1;31mFileNotFoundError\u001b[0m: [Errno 2] No such file or directory: '../../matplotlib/sci.mplstyle'",
      "\nThe above exception was the direct cause of the following exception:\n",
      "\u001b[1;31mOSError\u001b[0m                                   Traceback (most recent call last)",
      "\u001b[1;32mc:\\Users\\hendr\\Downloads\\qe-temp_2\\eps.ipynb Cell 1\u001b[0m line \u001b[0;36m3\n\u001b[0;32m      <a href='vscode-notebook-cell:/c%3A/Users/hendr/Downloads/qe-temp_2/eps.ipynb#W0sZmlsZQ%3D%3D?line=0'>1</a>\u001b[0m \u001b[39m# Import the necessary packages and modules\u001b[39;00m\n\u001b[0;32m      <a href='vscode-notebook-cell:/c%3A/Users/hendr/Downloads/qe-temp_2/eps.ipynb#W0sZmlsZQ%3D%3D?line=1'>2</a>\u001b[0m \u001b[39mimport\u001b[39;00m \u001b[39mmatplotlib\u001b[39;00m\u001b[39m.\u001b[39;00m\u001b[39mpyplot\u001b[39;00m \u001b[39mas\u001b[39;00m \u001b[39mplt\u001b[39;00m\n\u001b[1;32m----> <a href='vscode-notebook-cell:/c%3A/Users/hendr/Downloads/qe-temp_2/eps.ipynb#W0sZmlsZQ%3D%3D?line=2'>3</a>\u001b[0m plt\u001b[39m.\u001b[39;49mstyle\u001b[39m.\u001b[39;49muse(\u001b[39m'\u001b[39;49m\u001b[39m../../matplotlib/sci.mplstyle\u001b[39;49m\u001b[39m'\u001b[39;49m)\n\u001b[0;32m      <a href='vscode-notebook-cell:/c%3A/Users/hendr/Downloads/qe-temp_2/eps.ipynb#W0sZmlsZQ%3D%3D?line=3'>4</a>\u001b[0m \u001b[39mimport\u001b[39;00m \u001b[39mnumpy\u001b[39;00m \u001b[39mas\u001b[39;00m \u001b[39mnp\u001b[39;00m\n\u001b[0;32m      <a href='vscode-notebook-cell:/c%3A/Users/hendr/Downloads/qe-temp_2/eps.ipynb#W0sZmlsZQ%3D%3D?line=5'>6</a>\u001b[0m \u001b[39m# Set parameter\u001b[39;00m\n",
      "File \u001b[1;32mc:\\Users\\hendr\\Documents\\Python Scripts\\#envQuantum\\.venv\\Lib\\site-packages\\matplotlib\\style\\core.py:168\u001b[0m, in \u001b[0;36muse\u001b[1;34m(style)\u001b[0m\n\u001b[0;32m    166\u001b[0m         style \u001b[39m=\u001b[39m _rc_params_in_file(style)\n\u001b[0;32m    167\u001b[0m     \u001b[39mexcept\u001b[39;00m \u001b[39mIOError\u001b[39;00m \u001b[39mas\u001b[39;00m err:\n\u001b[1;32m--> 168\u001b[0m         \u001b[39mraise\u001b[39;00m \u001b[39mIOError\u001b[39;00m(\n\u001b[0;32m    169\u001b[0m             \u001b[39mf\u001b[39m\u001b[39m\"\u001b[39m\u001b[39m{\u001b[39;00mstyle\u001b[39m!r}\u001b[39;00m\u001b[39m is not a valid package style, path of style \u001b[39m\u001b[39m\"\u001b[39m\n\u001b[0;32m    170\u001b[0m             \u001b[39mf\u001b[39m\u001b[39m\"\u001b[39m\u001b[39mfile, URL of style file, or library style name (library \u001b[39m\u001b[39m\"\u001b[39m\n\u001b[0;32m    171\u001b[0m             \u001b[39mf\u001b[39m\u001b[39m\"\u001b[39m\u001b[39mstyles are listed in `style.available`)\u001b[39m\u001b[39m\"\u001b[39m) \u001b[39mfrom\u001b[39;00m \u001b[39merr\u001b[39;00m\n\u001b[0;32m    172\u001b[0m filtered \u001b[39m=\u001b[39m {}\n\u001b[0;32m    173\u001b[0m \u001b[39mfor\u001b[39;00m k \u001b[39min\u001b[39;00m style:  \u001b[39m# don't trigger RcParams.__getitem__('backend')\u001b[39;00m\n",
      "\u001b[1;31mOSError\u001b[0m: '../../matplotlib/sci.mplstyle' is not a valid package style, path of style file, URL of style file, or library style name (library styles are listed in `style.available`)"
     ]
    }
   ],
   "source": [
    "# Import the necessary packages and modules\n",
    "import matplotlib.pyplot as plt\n",
    "plt.style.use('sci.mplstyle')\n",
    "import numpy as np\n",
    "\n",
    "# Set parameter\n",
    "c = 299792458 # velocity of light (m/s)\n",
    "hbar = 6.582119569e-16 # reduced Planck constant (eV.s)\n",
    "l = 2.0/0.65 # Reduce thinkness the unit cell (2nm) to real thickness (0.65 nm)\n",
    "\n",
    "# Open and read the real part of dielectric tensor diagonal components\n",
    "ener, repsx, repsy, repsz = np.loadtxt('epsr_mos2.dat', unpack=True)\n",
    "# Open and read the imaginary part of dielectric tensor diagonal components\n",
    "ener, iepsx, iepsy, iepsz = np.loadtxt('epsi_mos2.dat', unpack=True)\n",
    "\n",
    "# Absorption coefficient in x-, y-, z-directions\n",
    "alphax = 2*(ener/hbar)*np.sqrt((np.sqrt((l*repsx)**2+(l*iepsx)**2)-l*repsx)/2)/c\n",
    "alphay = 2*(ener/hbar)*np.sqrt((np.sqrt((l*repsy)**2+(l*iepsy)**2)-l*repsy)/2)/c\n",
    "alphaz = 2*(ener/hbar)*np.sqrt((np.sqrt((l*repsz)**2+(l*iepsz)**2)-l*repsz)/2)/c\n",
    "\n",
    "# Create figure object\n",
    "fig, (ax1, ax3) = plt.subplots(1, 2, constrained_layout=True, figsize=(10, 4))\n",
    "ax2 = ax1.twinx()\n",
    "# Plot the epsilon\n",
    "ax1.plot(ener, l*repsx, 'b-')\n",
    "ax2.plot(ener, l*iepsx, 'r--')\n",
    "# Add the x and y-axis labels\n",
    "ax1.set_xlabel('Photon energy (eV)')\n",
    "ax1.set_ylabel(r'Re$(\\varepsilon_{xx})$', color='b')\n",
    "ax1.tick_params(axis='y', labelcolor='b')\n",
    "ax2.set_ylabel(r'Im$(\\varepsilon_{xx})$', color='r')\n",
    "ax2.tick_params(axis='y', labelcolor='r')\n",
    "# Set the axis limits\n",
    "ax1.set_xlim(0, 6)\n",
    "ax1.set_ylim(0, 36)\n",
    "ax2.set_ylim(0, 36)\n",
    "\n",
    "# Plot the abosorption coefficient\n",
    "ax3.plot(ener, alphax/10**8, c='k')\n",
    "# Add the x and y-axis labels\n",
    "ax3.set_xlabel('Photon energy (eV)')\n",
    "ax3.set_ylabel(r'$\\alpha_{xx}$ (10$^8$/m)')\n",
    "# Set the axis limits\n",
    "ax3.set_xlim(0, 6)\n",
    "ax3.set_ylim(0, 1.4)\n",
    "\n",
    "# Save a figure to the pdf file\n",
    "plt.savefig('plot-optic.png')\n",
    "plt.show()"
   ]
  }
 ],
 "metadata": {
  "kernelspec": {
   "display_name": "Python 3 (ipykernel)",
   "language": "python",
   "name": "python3"
  },
  "language_info": {
   "codemirror_mode": {
    "name": "ipython",
    "version": 3
   },
   "file_extension": ".py",
   "mimetype": "text/x-python",
   "name": "python",
   "nbconvert_exporter": "python",
   "pygments_lexer": "ipython3",
   "version": "3.11.6"
  }
 },
 "nbformat": 4,
 "nbformat_minor": 5
}
