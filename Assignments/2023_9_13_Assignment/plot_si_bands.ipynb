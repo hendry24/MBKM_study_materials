{
 "cells": [
  {
   "cell_type": "code",
   "execution_count": null,
   "metadata": {},
   "outputs": [],
   "source": [
    "import numpy as np\n",
    "import matplotlib.pyplot as plt\n",
    "plt.style.use('./SciencePlots-APS.mplstyle')\n",
    "\n",
    "def read_band(file, E_F):\n",
    "    dat = np.loadtxt(file)\n",
    "\n",
    "    k_lst = np.unique(dat[:, 0])\n",
    "    \n",
    "    E_k = (np.reshape(dat[:, 1], (-1, len(k_lst))).T) - E_F\n",
    "\n",
    "    return k_lst, E_k\n",
    "\n",
    "# Read data file and put into corresponding arrays.\n",
    "k_lst, E_k = read_band('./si.bands.gnu', 6.255)\n",
    "\n",
    "# Define high symmetry points.\n",
    "k_hs = np.array([k_lst[0], k_lst[20], k_lst[50], k_lst[60], k_lst[90]])\n",
    "\n",
    "k_hs_label = np.array([r'L', r'$\\Gamma$', r'X', r'U', r'$\\Gamma$'])\n",
    "\n",
    "# Plotting\n",
    "fig, ax = plt.subplots(1, figsize = (7, 3.5))\n",
    "\n",
    "color = 'b'\n",
    "lw = 1.0\n",
    "for i in range(0, E_k.shape[1]):\n",
    "    \n",
    "    ax.plot(k_lst, E_k[:, i], color = color, lw = lw)\n",
    "\n",
    "ax.set_xlim(k_hs[0], k_hs[-1])\n",
    "ax.set_xticks(k_hs)\n",
    "ax.set_xticklabels(k_hs_label)\n",
    "ax.tick_params(axis = 'x', which = 'minor', bottom = False, top = False)\n",
    "\n",
    "ax.set_ylim(-13.0, 4.0)\n",
    "ax.set_ylabel(r'Energy $\\left(eV\\right)$')\n",
    "ax.axhline(0, color = 'gray', ls = '--', lw = 1.5)\n",
    "\n",
    "for k in k_hs:\n",
    "    ax.axvline(k, color = 'gray', ls = '--', lw = 1.5)\n",
    "\n",
    "fig.savefig('./bandstructure_Si.png', dpi = 600)\n",
    "plt.show()"
   ]
  }
 ],
 "metadata": {
  "language_info": {
   "name": "python"
  },
  "orig_nbformat": 4
 },
 "nbformat": 4,
 "nbformat_minor": 2
}
